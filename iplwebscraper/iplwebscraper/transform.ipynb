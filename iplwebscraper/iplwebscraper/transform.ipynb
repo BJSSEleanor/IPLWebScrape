{
 "cells": [
  {
   "cell_type": "code",
   "execution_count": 131,
   "metadata": {},
   "outputs": [],
   "source": [
    "from selenium import webdriver\n",
    "from selenium.webdriver.common.by import By\n",
    "from selenium.common.exceptions import WebDriverException\n",
    "import pandas as pd\n",
    "import numpy as np\n",
    "from extract import obtain_batting_results"
   ]
  },
  {
   "cell_type": "code",
   "execution_count": 132,
   "metadata": {},
   "outputs": [],
   "source": [
    "results = obtain_batting_results()"
   ]
  },
  {
   "cell_type": "code",
   "execution_count": 133,
   "metadata": {},
   "outputs": [],
   "source": [
    "cleaned_results = results.drop(columns=[\"Unnamed: 8\",\"Unnamed: 9\"])\n",
    "cleaned_results = cleaned_results.rename(columns={\"BATTING\":\"Player\",\"Unnamed: 1\":\"Status\"})\n",
    "cleaned_results = cleaned_results.dropna(inplace=False)"
   ]
  },
  {
   "cell_type": "code",
   "execution_count": 135,
   "metadata": {},
   "outputs": [],
   "source": [
    "indexes_to_drop = list(cleaned_results.loc[cleaned_results[\"Player\"].str.contains(r\"Did not bat\")].index)\n",
    "indexes_to_drop.extend(list(cleaned_results.loc[cleaned_results[\"Player\"].str.contains(r\"Fall of wickets\")].index))\n",
    "cleaned_results = cleaned_results.drop(index=indexes_to_drop)"
   ]
  },
  {
   "cell_type": "code",
   "execution_count": 171,
   "metadata": {},
   "outputs": [
    {
     "name": "stdout",
     "output_type": "stream",
     "text": [
      "['Aaron Finch', 'Abdul Samad', 'Abhijeet Tomar', 'Abhinav Manohar', 'Abhishek Sharma', 'Aiden Markram', 'Ajinkya Rahane', 'Akash Deep', 'Alzarri Joseph', 'Aman Hakim Khan', 'Ambati Rayudu', 'Andre Russell', 'Anmolpreet Singh', 'Anrich Nortje', 'Anuj Rawat', 'Anukul Roy', 'Arshdeep Singh', 'Avesh Khan', 'Axar Patel', 'Ayush Badoni', 'Baba Indrajith\\xa0†', 'Bhanuka Rajapaksa', 'Bhanuka Rajapaksa\\xa0†', 'Bhuvneshwar Kumar', 'Bhuvneshwar Kumar\\xa0(c)', 'Chris Jordan', 'Daniel Sams', 'Daryl Mitchell', 'David Miller', 'David Warner', 'David Willey', 'Deepak Hooda', 'Devdutt Padikkal', 'Devon Conway', 'Dewald Brevis', 'Dinesh Karthik\\xa0†', 'Dushmantha Chameera', 'Dwaine Pretorius', 'Dwayne Bravo', 'Evin Lewis', 'Fabian Allen', 'Faf du Plessis\\xa0(c)', 'Fazalhaq Farooqi', 'Glenn Maxwell', 'Hardik Pandya\\xa0(c)', 'Harpreet Brar', 'Harshal Patel', 'Harshit Rana', 'Hrithik Shokeen', 'Ishan Kishan\\xa0†', 'Jagadeesha Suchith', 'James Neesham', 'Jason Holder', 'Jasprit Bumrah', 'Jaydev Unadkat', 'Jitesh Sharma', 'Jitesh Sharma\\xa0†', 'Jonny Bairstow', 'Jonny Bairstow\\xa0†', 'Jos Buttler', 'Josh Hazlewood', 'KL Rahul\\xa0(c)', 'Kagiso Rabada', 'Kane Williamson\\xa0(c)', 'Karan Sharma', 'Kartik Tyagi', 'Karun Nair', 'Khaleel Ahmed', 'Kieron Pollard', 'Krishnappa Gowtham', 'Krunal Pandya', 'Kuldeep Sen', 'Kuldeep Yadav', 'Kumar Kartikeya', 'Lalit Yadav', 'Liam Livingstone', 'Lockie Ferguson', 'M Shahrukh Khan', 'MS Dhoni\\xa0(c)†', 'MS Dhoni\\xa0†', 'Maheesh Theekshana', 'Mahipal Lomror', 'Manan Vohra', 'Mandeep Singh', 'Manish Pandey', 'Marco Jansen', 'Marcus Stoinis', 'Matthew Wade', 'Matthew Wade\\xa0†', 'Mayank Agarwal\\xa0(c)', 'Mitchell Marsh', 'Mitchell Santner', 'Moeen Ali', 'Mohammed Siraj', 'Mohsin Khan', 'Mukesh Choudhary', 'Murugan Ashwin', 'Mustafizur Rahman', 'Narayan Jagadeesan', 'Nathan Coulter-Nile', 'Nathan Ellis', 'Navdeep Saini', 'Nicholas Pooran\\xa0†', 'Nitish Rana', 'Obed McCoy', 'Odean Smith', 'Pat Cummins', 'Prabhsimran Singh', 'Pradeep Sangwan', 'Prasidh Krishna', 'Prerak Mankad', 'Prithvi Shaw', 'Priyam Garg', 'Quinton de Kock\\xa0†', 'Rahul Chahar', 'Rahul Tewatia', 'Rahul Tripathi', 'Rajat Patidar', 'Raj\\xa0Bawa', 'Ramandeep Singh', 'Rashid Khan', 'Rashid Khan\\xa0(c)', 'Rasikh Salam', 'Rassie van der Dussen', 'Ravi Bishnoi', 'Ravichandran Ashwin', 'Ravindra Jadeja', 'Ravindra Jadeja\\xa0(c)', 'Riley Meredith', 'Rinku Singh', 'Ripal Patel', 'Rishabh Pant\\xa0(c)†', 'Rishi Dhawan', 'Riyan Parag', 'Robin Uthappa', 'Rohit Sharma\\xa0(c)', 'Romario Shepherd', 'Rovman Powell', 'Ruturaj Gaikwad', 'Sai Sudharsan', 'Sam Billings', 'Sam Billings\\xa0†', 'Sanjay Yadav', 'Sanju Samson\\xa0(c)†', 'Sarfaraz Khan', 'Sean Abbott', 'Shahbaz Ahmed', 'Shardul Thakur', 'Shashank Singh', 'Sheldon Jackson\\xa0†', 'Sherfane Rutherford', 'Shikhar Dhawan', 'Shikhar Dhawan\\xa0(c)', 'Shimron Hetmyer', 'Shivam Dube', 'Shivam Mavi', 'Shreyas Gopal', 'Shreyas Iyer\\xa0(c)', 'Shubman Gill', 'Simarjeet Singh', 'Srikar Bharat', 'Sunil Narine', 'Suryakumar Yadav', 'Suyash Prabhudessai', 'Tilak Varma', 'Tim David', 'Tim Seifert', 'Tim Southee', 'Trent Boult', 'Tristan Stubbs', 'Tymal Mills', 'Umesh Yadav', 'Umran Malik', 'Vaibhav Arora', 'Varun Chakravarthy', 'Venkatesh Iyer', 'Vijay Shankar', 'Virat Kohli', 'Wanindu Hasaranga de Silva', 'Washington Sundar', 'Wriddhiman Saha\\xa0†', 'Yash Dayal', 'Yashasvi Jaiswal', 'Yuzvendra Chahal']\n"
     ]
    }
   ],
   "source": [
    "cleaned_results.replace(\"-\",0, inplace = True)"
   ]
  },
  {
   "cell_type": "code",
   "execution_count": 158,
   "metadata": {},
   "outputs": [],
   "source": [
    "cleaned_results[\"Not Out\"] = np.where(cleaned_results[\"Status\"]==\"not out\",True,False)\n",
    "cleaned_results = cleaned_results.astype({\"Player\":\"string\", \"Status\":\"string\", \"R\":int, \"B\":int, \"M\":int, \"4s\":int, \"6s\":int, \"SR\":float, \"Not Out\":int})"
   ]
  },
  {
   "cell_type": "code",
   "execution_count": 161,
   "metadata": {},
   "outputs": [
    {
     "name": "stdout",
     "output_type": "stream",
     "text": [
      "                     R    B  4s  6s  Not Out\n",
      "Player                                      \n",
      "James Neesham       31   27   3   0        0\n",
      "Khaleel Ahmed        0    2   0   0        0\n",
      "Bhuvneshwar Kumar   23   25   3   0        3\n",
      "Abdul Samad          4    7   0   0        0\n",
      "Kuldeep Sen          0    3   0   0        1\n",
      "Abhijeet Tomar       4    8   1   0        0\n",
      "Shahbaz Ahmed      219  181  14   9        3\n",
      "Mohsin Khan         23   16   2   1        2\n",
      "Dwayne Bravo        23   24   1   1        4\n",
      "Dewald Brevis      161  113  14  11        0\n"
     ]
    }
   ],
   "source": [
    "grouped_results = cleaned_results.groupby(\"Player\")[[\"R\",\"B\",\"4s\",\"6s\",\"Not Out\"]].sum()\n",
    "print(grouped_results.sample(10))"
   ]
  }
 ],
 "metadata": {
  "kernelspec": {
   "display_name": "Python 3.10.5 ('iplwebscraper-rl8ORjY7-py3.10')",
   "language": "python",
   "name": "python3"
  },
  "language_info": {
   "codemirror_mode": {
    "name": "ipython",
    "version": 3
   },
   "file_extension": ".py",
   "mimetype": "text/x-python",
   "name": "python",
   "nbconvert_exporter": "python",
   "pygments_lexer": "ipython3",
   "version": "3.10.5"
  },
  "orig_nbformat": 4,
  "vscode": {
   "interpreter": {
    "hash": "0c6b358b631be5880f8e32cac14485abf2fcfceb6d050aafaf003d54c2947a6f"
   }
  }
 },
 "nbformat": 4,
 "nbformat_minor": 2
}
